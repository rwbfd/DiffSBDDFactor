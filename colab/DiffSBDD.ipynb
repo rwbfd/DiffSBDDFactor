{
  "nbformat": 4,
  "nbformat_minor": 0,
  "metadata": {
    "colab": {
      "provenance": [],
      "collapsed_sections": [],
      "authorship_tag": "ABX9TyMIDuefMH16UCqj7aA+glgw"
    },
    "kernelspec": {
      "name": "python3",
      "display_name": "Python 3"
    },
    "language_info": {
      "name": "python"
    },
    "accelerator": "GPU",
    "widgets": {
      "application/vnd.jupyter.widget-state+json": {
        "47a768887b064e3280e4d60d71986264": {
          "model_module": "@jupyter-widgets/controls",
          "model_name": "TextModel",
          "model_module_version": "1.5.0",
          "state": {
            "_dom_classes": [],
            "_model_module": "@jupyter-widgets/controls",
            "_model_module_version": "1.5.0",
            "_model_name": "TextModel",
            "_view_count": null,
            "_view_module": "@jupyter-widgets/controls",
            "_view_module_version": "1.5.0",
            "_view_name": "TextView",
            "continuous_update": true,
            "description": "",
            "description_tooltip": null,
            "disabled": false,
            "layout": "IPY_MODEL_3580624ec96146eca718f8f7073a57a0",
            "placeholder": "​",
            "style": "IPY_MODEL_b0d9cc5cc0954e3fb324dfe9fd19ba9a",
            "value": "A:330"
          }
        },
        "3580624ec96146eca718f8f7073a57a0": {
          "model_module": "@jupyter-widgets/base",
          "model_name": "LayoutModel",
          "model_module_version": "1.2.0",
          "state": {
            "_model_module": "@jupyter-widgets/base",
            "_model_module_version": "1.2.0",
            "_model_name": "LayoutModel",
            "_view_count": null,
            "_view_module": "@jupyter-widgets/base",
            "_view_module_version": "1.2.0",
            "_view_name": "LayoutView",
            "align_content": null,
            "align_items": null,
            "align_self": null,
            "border": null,
            "bottom": null,
            "display": null,
            "flex": null,
            "flex_flow": null,
            "grid_area": null,
            "grid_auto_columns": null,
            "grid_auto_flow": null,
            "grid_auto_rows": null,
            "grid_column": null,
            "grid_gap": null,
            "grid_row": null,
            "grid_template_areas": null,
            "grid_template_columns": null,
            "grid_template_rows": null,
            "height": null,
            "justify_content": null,
            "justify_items": null,
            "left": null,
            "margin": null,
            "max_height": null,
            "max_width": null,
            "min_height": null,
            "min_width": null,
            "object_fit": null,
            "object_position": null,
            "order": null,
            "overflow": null,
            "overflow_x": null,
            "overflow_y": null,
            "padding": null,
            "right": null,
            "top": null,
            "visibility": null,
            "width": null
          }
        },
        "b0d9cc5cc0954e3fb324dfe9fd19ba9a": {
          "model_module": "@jupyter-widgets/controls",
          "model_name": "DescriptionStyleModel",
          "model_module_version": "1.5.0",
          "state": {
            "_model_module": "@jupyter-widgets/controls",
            "_model_module_version": "1.5.0",
            "_model_name": "DescriptionStyleModel",
            "_view_count": null,
            "_view_module": "@jupyter-widgets/base",
            "_view_module_version": "1.2.0",
            "_view_name": "StyleView",
            "description_width": ""
          }
        }
      }
    }
  },
  "cells": [
    {
      "cell_type": "markdown",
      "source": [
        "# DiffSBDD: Structure-based Drug Design with Equivariant Diffusion Models\n",
        "\n",
        "[**[Paper]**](https://arxiv.org/abs/2210.13695)\n",
        "[**[Code]**](https://github.com/arneschneuing/DiffSBDD)\n",
        "\n",
        "Make sure to select `Runtime` -> `Change runtime type` -> `GPU` before you run the script.\n",
        "\n",
        "<img src=\"https://raw.githubusercontent.com/arneschneuing/DiffSBDD/main/img/overview.png\" height=250>"
      ],
      "metadata": {
        "id": "m12HrhIsNKkS"
      }
    },
    {
      "cell_type": "markdown",
      "source": [
        "## Choose target PDB"
      ],
      "metadata": {
        "id": "e46yNUYbdqZ3"
      }
    },
    {
      "cell_type": "code",
      "source": [
        "from google.colab import files\n",
        "from google.colab import output\n",
        "output.enable_custom_widget_manager()\n",
        "import os.path\n",
        "from pathlib import Path\n",
        "import urllib\n",
        "import os\n",
        "\n",
        "input_dir = Path(\"/content/input_pdbs/\")\n",
        "output_dir = Path(\"/content/output_sdfs/\")\n",
        "input_dir.mkdir(exist_ok=True)\n",
        "output_dir.mkdir(exist_ok=True)\n",
        "\n",
        "target = \"example (3rfm)\" #@param [\"example (3rfm)\", \"upload structure\"]\n",
        "\n",
        "if target == \"example (3rfm)\":\n",
        "  pdbfile = Path(input_dir, '3rfm.pdb')\n",
        "  urllib.request.urlretrieve('http://files.rcsb.org/download/3rfm.pdb', pdbfile)\n",
        "\n",
        "elif target == \"upload structure\":\n",
        "  uploaded = files.upload()\n",
        "  fn = list(uploaded.keys())[0]\n",
        "  pdbfile = Path(input_dir, fn)\n",
        "  Path(fn).rename(pdbfile)"
      ],
      "metadata": {
        "cellView": "form",
        "id": "tzkQJJeNdJMa"
      },
      "execution_count": null,
      "outputs": []
    },
    {
      "cell_type": "markdown",
      "source": [
        "## Define binding pocket\n",
        "\n",
        "You can choose between two options to define the binding pocket:\n",
        "1. **list of residues:** provide a list where each residue is specified as `<chain_id>:<res_id>`, e.g, `A:1 A:2 A:3 A:4 A:5 A:6 A:7`\n",
        "2. **reference ligand:** if the uploaded PDB structure contains a reference ligand in the target pocket, you can specify its location as `<chain_id>:<res_id>` and the pocket will be extracted automatically"
      ],
      "metadata": {
        "id": "eif7HG0Bd2qj"
      }
    },
    {
      "cell_type": "code",
      "source": [
        "#@title { run: \"auto\" }\n",
        "import ipywidgets as widgets\n",
        "\n",
        "pocket_definition = \"reference ligand\" #@param [\"list of residues\", \"reference ligand\"]\n",
        "\n",
        "if pocket_definition == \"list of residues\":\n",
        "  print('pocket_residues:')\n",
        "  w = widgets.Text(value='A:9 A:59 A:60 A:62 A:63 A:64 A:66 A:67 A:80 A:81 A:84 A:85 A:88 A:167 A:168 A:169 A:170 A:172 A:174 A:177 A:181 A:246 A:249 A:250 A:252 A:253 A:256 A:265 A:267 A:270 A:271 A:273 A:274 A:275 A:277 A:278')\n",
        "  pocket_flag = \"--resi_list\"\n",
        "elif pocket_definition == \"reference ligand\":\n",
        "  print('reference_ligand:')\n",
        "  w = widgets.Text(value='A:330')\n",
        "  pocket_flag = \"--ref_ligand\"\n",
        "\n",
        "display(w)"
      ],
      "metadata": {
        "colab": {
          "base_uri": "https://localhost:8080/",
          "height": 66,
          "referenced_widgets": [
            "47a768887b064e3280e4d60d71986264",
            "3580624ec96146eca718f8f7073a57a0",
            "b0d9cc5cc0954e3fb324dfe9fd19ba9a"
          ]
        },
        "cellView": "form",
        "id": "E9AMhAo_VlUo",
        "outputId": "93f7ac90-d64b-43bc-92db-c6cb387fea7e"
      },
      "execution_count": null,
      "outputs": [
        {
          "output_type": "stream",
          "name": "stdout",
          "text": [
            "reference_ligand:\n"
          ]
        },
        {
          "output_type": "display_data",
          "data": {
            "text/plain": [
              "Text(value='A:330')"
            ],
            "application/vnd.jupyter.widget-view+json": {
              "version_major": 2,
              "version_minor": 0,
              "model_id": "47a768887b064e3280e4d60d71986264"
            }
          },
          "metadata": {
            "application/vnd.jupyter.widget-view+json": {
              "colab": {
                "custom_widget_manager": {
                  "url": "https://ssl.gstatic.com/colaboratory-static/widgets/colab-cdn-widget-manager/d2e234f7cc04bf79/manager.min.js"
                }
              }
            }
          }
        }
      ]
    },
    {
      "cell_type": "markdown",
      "source": [
        "## Settings\n",
        "\n",
        "Notes: \n",
        "- `timesteps < 1000` is an experimental feature\n",
        "- `resamplings` and `jump_length` only pertain to the inpainting model"
      ],
      "metadata": {
        "id": "eYgXjygkeG14"
      }
    },
    {
      "cell_type": "code",
      "source": [
        "#@markdown ## Sampling\n",
        "n_samples = 10 #@param {type:\"slider\", min:1, max:100, step:1}\n",
        "ligand_nodes = 20 #@param {type:\"integer\"}\n",
        "\n",
        "model = \"conditional_full_atom\" #@param [\"conditional_full_atom\", \"inpaint_ca\"]\n",
        "checkpoint = Path('DiffSBDD', 'checkpoints', 'full_atom.ckpt') if model == \"conditional_full_atom\" else Path('DiffSBDD', 'checkpoints', 'ca_inpaint.ckpt')\n",
        "\n",
        "timesteps = 100 #@param {type:\"slider\", min:1, max:1000, step:1}\n",
        "\n",
        "#@markdown  ## Inpainting parameters\n",
        "resamplings = 1 #@param {type:\"integer\"}\n",
        "jump_length = 1 #@param {type:\"integer\"}\n",
        "\n",
        "#@markdown  ## Post-processing\n",
        "keep_all_fragments = False #@param {type:\"boolean\"}\n",
        "keep_all_fragments = \"--all_frags\" if keep_all_fragments else \"\"\n",
        "sanitize = True #@param {type:\"boolean\"}\n",
        "sanitize = \"--sanitize\" if sanitize else \"\"\n",
        "relax = True #@param {type:\"boolean\"}\n",
        "relax = \"--relax\" if relax else \"\""
      ],
      "metadata": {
        "id": "VQ6xa7EPMtyI",
        "cellView": "form"
      },
      "execution_count": null,
      "outputs": []
    },
    {
      "cell_type": "code",
      "source": [
        "#@title Install dependencies (this will take about 10 minutes)\n",
        "%%capture\n",
        "%%bash\n",
        "\n",
        "set -e # Exit immediately if a command exits with a non-zero status.\n",
        "\n",
        "if [ ! -f READY ]; then\n",
        "\n",
        "  # Unset PYTHONPATH\n",
        "  env PYTHONPATH=\n",
        "\n",
        "  # Install Miniconda\n",
        "  wget -q https://repo.anaconda.com/miniconda/Miniconda3-latest-Linux-x86_64.sh >/dev/null\n",
        "  bash Miniconda3-latest-Linux-x86_64.sh -b -f -p /usr/local >/dev/null\n",
        "\n",
        "  # Install dependencies\n",
        "  git clone https://github.com/arneschneuing/DiffSBDD.git\n",
        "\n",
        "  conda install pytorch=1.12.1 cudatoolkit=10.2 -c pytorch >/dev/null\n",
        "  conda install -c conda-forge pytorch-lightning=1.7.4 >/dev/null\n",
        "  conda install -c conda-forge wandb=0.13.1 >/dev/null\n",
        "  conda install -c conda-forge rdkit=2022.03.2 >/dev/null\n",
        "  conda install -c conda-forge biopython=1.79 >/dev/null\n",
        "  conda install -c conda-forge imageio=2.21.2 >/dev/null\n",
        "  conda install -c anaconda scipy=1.7.3 >/dev/null\n",
        "  conda install -c pyg pytorch-scatter=2.0.9 >/dev/null\n",
        "  conda install -c conda-forge openbabel=3.1.1 >/dev/null\n",
        "  conda install -c conda-forge networkx=2.8.6 >/dev/null\n",
        "\n",
        "  # enforce boost-cpp version\n",
        "  conda install -y -c conda-forge boost-cpp=1.74.0=h359cf19_5 >/dev/null\n",
        "\n",
        "  pip install py3Dmol==1.8.1 >/dev/null\n",
        "\n",
        "  touch READY\n",
        "fi"
      ],
      "metadata": {
        "id": "9ICnpcGvdr-J",
        "cellView": "form"
      },
      "execution_count": null,
      "outputs": []
    },
    {
      "cell_type": "code",
      "source": [
        "#@title Run sampling (this will take a few minutes; runtime depends on the input parameters `n_samples`, `timesteps` etc.)\n",
        "\n",
        "pocket = w.value\n",
        "!python -W ignore DiffSBDD/generate_ligands.py $checkpoint --pdbfile $pdbfile --outdir $output_dir $pocket_flag $pocket --n_samples $n_samples --num_nodes_lig $ligand_nodes --resamplings $resamplings --jump_length $jump_length $keep_all_fragments $sanitize $relax >/dev/null"
      ],
      "metadata": {
        "id": "ZYl2UhY5xgI_",
        "cellView": "form"
      },
      "execution_count": null,
      "outputs": []
    },
    {
      "cell_type": "code",
      "source": [
        "#@title Show generated molecules\n",
        "\n",
        "import sys\n",
        "sys.path.append(\"/usr/local/lib/python3.9/site-packages\")\n",
        "import py3Dmol\n",
        "\n",
        "view = py3Dmol.view(js='https://3dmol.org/build/3Dmol.js',)\n",
        "view.addModel(open(pdbfile, 'r').read(), 'pdb')\n",
        "view.setStyle({'model': -1}, {'cartoon': {'color': 'lime'}})\n",
        "# view.addSurface(py3Dmol.VDW, {'opacity': 0.4, 'color': 'lime'})\n",
        "view.addModelsAsFrames(open(Path(output_dir, f\"{pdbfile.stem}_mol.sdf\"), 'r').read())\n",
        "view.setStyle({'model': -1}, {'stick': {}})\n",
        "view.zoomTo({'model': -1})\n",
        "view.zoom(0.5)\n",
        "if target == \"example (3rfm)\":\n",
        "  view.rotate(90, 'y')\n",
        "view.animate({'loop': \"forward\", 'interval': 1000})\n",
        "view.show()"
      ],
      "metadata": {
        "cellView": "form",
        "id": "lVyysoc0Rp_-"
      },
      "execution_count": null,
      "outputs": []
    },
    {
      "cell_type": "code",
      "source": [
        "#@title Download .sdf file\n",
        "files.download(Path(output_dir, f\"{pdbfile.stem}_mol.sdf\"))"
      ],
      "metadata": {
        "cellView": "form",
        "id": "3lQUv8rmQRd_"
      },
      "execution_count": null,
      "outputs": []
    }
  ]
}